{
 "cells": [
  {
   "cell_type": "code",
   "execution_count": 1,
   "metadata": {},
   "outputs": [
    {
     "data": {
      "text/plain": [
       "True"
      ]
     },
     "execution_count": 1,
     "metadata": {},
     "output_type": "execute_result"
    }
   ],
   "source": [
    "from council.llm import LLMMessage, LLMBase\n",
    "from council.llm.openai_llm import OpenAILLM\n",
    "import dotenv\n",
    "dotenv.load_dotenv()"
   ]
  },
  {
   "cell_type": "code",
   "execution_count": 2,
   "metadata": {},
   "outputs": [
    {
     "name": "stderr",
     "output_type": "stream",
     "text": [
      "gpt-4 may change over time. Returning num tokens assuming gpt-4-0613.\n"
     ]
    }
   ],
   "source": [
    "llm = OpenAILLM.from_env()"
   ]
  },
  {
   "cell_type": "code",
   "execution_count": 3,
   "metadata": {},
   "outputs": [
    {
     "name": "stdout",
     "output_type": "stream",
     "text": [
      "Absolutely, here's a detailed data analysis plan to identify the economic factors that best predict food prices at an 18 month horizon:\n",
      "\n",
      "1. **Data Collection**: \n",
      "   - Collect historical data on food prices for at least the past 5 years. This data should include monthly prices of different food items.\n",
      "   - Collect data on potential economic predictors such as inflation rates, GDP growth rates, unemployment rates, exchange rates, interest rates, agricultural production data, weather patterns, and commodity prices. \n",
      "   - Collect data on other potential factors such as government policies related to food and agriculture, global food supply and demand, and global crises (like pandemics or wars).\n",
      "\n",
      "2. **Data Cleaning and Preprocessing**: \n",
      "   - Clean the data by handling missing values, outliers, and errors.\n",
      "   - Normalize the data if necessary to bring all variables to the same scale.\n",
      "   - Create a time-lagged dataset for the prediction horizon of 18 months.\n",
      "\n",
      "3. **Exploratory Data Analysis (EDA)**: \n",
      "   - Analyze the data to understand the distribution, trends, and correlations among variables.\n",
      "   - Use visualizations to better understand the relationships among variables.\n",
      "\n",
      "4. **Feature Selection and Engineering**: \n",
      "   - Identify the most relevant features using techniques like correlation analysis, mutual information, or machine learning feature importance.\n",
      "   - Engineer new features if necessary, such as lagged variables for time series analysis.\n",
      "\n",
      "5. **Model Building**: \n",
      "   - Split the data into training and testing sets.\n",
      "   - Build predictive models using techniques suitable for time series data, such as ARIMA, state space models, or machine learning models like Random Forest or LSTM.\n",
      "   - Use cross-validation to tune the model parameters.\n",
      "\n",
      "6. **Model Evaluation**: \n",
      "   - Evaluate the models using appropriate metrics, such as Mean Absolute Error (MAE), Root Mean Square Error (RMSE), or Mean Absolute Percentage Error (MAPE).\n",
      "   - Compare the performance of different models.\n",
      "\n",
      "7. **Model Interpretation**: \n",
      "   - Interpret the model results to identify the most important economic predictors of food prices.\n",
      "   - Use techniques like partial dependence plots or SHAP values for model interpretation.\n",
      "\n",
      "8. **Reporting**: \n",
      "   - Document the analysis process, results, and interpretations.\n",
      "   - Present the findings to stakeholders with clear visualizations and explanations.\n",
      "\n",
      "9. **Model Deployment and Monitoring**: \n",
      "   - If the model's performance is satisfactory, deploy the model for forecasting food prices.\n",
      "   - Monitor the model's performance over time and update the model as necessary.\n",
      "\n",
      "Remember, this is an iterative process. You may need to go back and forth between steps based on your findings.\n"
     ]
    }
   ],
   "source": [
    "system_message = \"You are an expert data scientist responsible for creating detailed data analysis plans.\"\n",
    "main_prompt = \"I want to identify which economic factors are the best predictors of food prices at an 18 month horizon. Can you help me with that?\"\n",
    "\n",
    "messages = [\n",
    "    LLMMessage.system_message(system_message),\n",
    "    LLMMessage.user_message(main_prompt),\n",
    "]\n",
    "\n",
    "response = llm.post_chat_request(messages).first_choice\n",
    "print(response)"
   ]
  },
  {
   "cell_type": "markdown",
   "metadata": {},
   "source": [
    "fred_chain = Chain(\n",
    "            name=\"fred_data_specialist\",\n",
    "            description=\"Identify and access economic datasets from the Federal Reserve Economic Database (FRED). Use this chain when you need to generate or edit code for accessing or downloading data from FRED.\",\n",
    "            runners=[fred_skill, parse_python_skill]\n",
    "        )\n",
    "\n",
    "        data_scientist_chain = Chain(\n",
    "            name=\"data_scientist\",\n",
    "            description=\"Write Python code related to data analysis and visualization, especially related to time series. Use this when you want to write code that will involve data analysis, manipulation, or plotting.\",\n",
    "            runners=[data_scientist_skill, parse_python_skill]\n",
    "        )\n"
   ]
  },
  {
   "cell_type": "code",
   "execution_count": 4,
   "metadata": {},
   "outputs": [
    {
     "name": "stdout",
     "output_type": "stream",
     "text": [
      "fred_data_specialist;8;Identify and access historical data on food prices, inflation rates, GDP growth rates, unemployment rates, exchange rates, interest rates, agricultural production data, and commodity prices from the Federal Reserve Economic Database (FRED). Generate code for downloading this data for at least the past 5 years.\n",
      "\n",
      "data_scientist;9;Once the data is downloaded, write Python code to clean and preprocess the data. This includes handling missing values, outliers, and errors, and normalizing the data if necessary. Create a time-lagged dataset for the prediction horizon of 18 months. Perform exploratory data analysis to understand the distribution, trends, and correlations among variables. Use visualizations to better understand the relationships among variables. \n",
      "\n",
      "data_scientist;9;Continue with feature selection and engineering. Identify the most relevant features using techniques like correlation analysis, mutual information, or machine learning feature importance. Engineer new features if necessary, such as lagged variables for time series analysis.\n",
      "\n",
      "data_scientist;10;Proceed to model building. Split the data into training and testing sets. Build predictive models using techniques suitable for time series data, such as ARIMA, state space models, or machine learning models like Random Forest or LSTM. Use cross-validation to tune the model parameters.\n",
      "\n",
      "data_scientist;10;Evaluate the models using appropriate metrics, such as Mean Absolute Error (MAE), Root Mean Square Error (RMSE), or Mean Absolute Percentage Error (MAPE). Compare the performance of different models. Interpret the model results to identify the most important economic predictors of food prices. Use techniques like partial dependence plots or SHAP values for model interpretation.\n",
      "\n",
      "data_scientist;8;Finally, document the analysis process, results, and interpretations. Present the findings to stakeholders with clear visualizations and explanations. If the model's performance is satisfactory, write code to deploy the model for forecasting food prices. Monitor the model's performance over time and update the model as necessary.\n"
     ]
    }
   ],
   "source": [
    "messages = [\n",
    "    LLMMessage.system_message(system_message),\n",
    "    LLMMessage.user_message(main_prompt),\n",
    "    LLMMessage.system_message(response),\n",
    "    LLMMessage.user_message(\"\"\"\n",
    "    Turn this into an actionable plan that leverages two CHAINs:\n",
    "    1. {\"name\": \"fred_data_specialist\", \"description\": \"Identify and access economic datasets from the Federal Reserve Economic Database (FRED). Use this chain when you need to generate or edit code for accessing or downloading data from FRED.\"}\n",
    "    2. {\"name\": \"data_scientist\", \"description\": \"Write Python code related to data analysis and visualization, especially related to time series. Use this when you want to write code that will involve data analysis, manipulation, or plotting.\"}\n",
    "    \n",
    "    Format your response precisely as {name};{integer score between 0 and 10};{natural language message or instructions for the selected chain on a single line}\n",
    "    \"\"\"),\n",
    "]\n",
    "\n",
    "response = llm.post_chat_request(messages).first_choice\n",
    "print(response)"
   ]
  },
  {
   "cell_type": "markdown",
   "metadata": {},
   "source": [
    "## Let's try that again but going straight to the actionable plan."
   ]
  },
  {
   "cell_type": "code",
   "execution_count": 13,
   "metadata": {},
   "outputs": [],
   "source": [
    "import toml \n",
    "from string import Template\n",
    "\n",
    "work_dir=\"../src/python_agent\"\n",
    "\n",
    "fred_system_message = toml.load(\n",
    "    f\"{work_dir}/prompts/fred_data_specialist.toml\"\n",
    ")[\"system\"][\"prompt\"]\n",
    "\n",
    "fred_prompt_template = toml.load(f\"{work_dir}/prompts/fred_data_specialist.toml\")[\"main\"][\n",
    "        \"prompt_template\"\n",
    "    ]\n",
    "\n",
    "\n",
    "data_scientist_system_message = toml.load(\n",
    "    f\"{work_dir}/prompts/fred_data_scientist.toml\"\n",
    ")[\"system\"][\"prompt\"]\n",
    "\n",
    "data_scientist_prompt_template = toml.load(f\"{work_dir}/prompts/fred_data_scientist.toml\")[\"main\"][\n",
    "        \"prompt_template\"\n",
    "    ]"
   ]
  },
  {
   "cell_type": "code",
   "execution_count": 17,
   "metadata": {},
   "outputs": [
    {
     "name": "stdout",
     "output_type": "stream",
     "text": [
      "Detailed Plan:\n",
      "1. Identify relevant economic datasets from the Federal Reserve Economic Database (FRED) that could potentially influence food prices. These could include datasets on inflation, unemployment, GDP, interest rates, etc.\n",
      "2. Access and download these datasets using the FRED API.\n",
      "3. Load the datasets into a Python environment for analysis.\n",
      "4. Clean and preprocess the data, ensuring it is in a suitable format for analysis.\n",
      "5. Perform exploratory data analysis (EDA) to understand the data and identify any patterns or trends.\n",
      "6. Create a time series model to predict food prices at an 18-month horizon.\n",
      "7. Evaluate the model's performance using appropriate metrics.\n",
      "8. Identify the most influential economic factors based on the model's feature importance.\n",
      "9. Visualize the results and findings.\n",
      "10. Communicate the findings to the user.\n",
      "\n",
      "Actionable Plan:\n",
      "1. {fred_data_specialist};Identify and access relevant economic datasets from FRED that could potentially influence food prices. These could include datasets on inflation, unemployment, GDP, interest rates, etc.\n",
      "2. {fred_data_specialist};Download these datasets using the FRED API.\n",
      "3. {data_scientist};Load the downloaded datasets into a Python environment for analysis.\n",
      "4. {data_scientist};Clean and preprocess the data, ensuring it is in a suitable format for analysis.\n",
      "5. {data_scientist};Perform exploratory data analysis (EDA) to understand the data and identify any patterns or trends.\n",
      "6. {data_scientist};Create a time series model to predict food prices at an 18-month horizon.\n",
      "7. {data_scientist};Evaluate the model's performance using appropriate metrics.\n",
      "8. {data_scientist};Identify the most influential economic factors based on the model's feature importance.\n",
      "9. {data_scientist};Visualize the results and findings.\n",
      "10. {code_execution_chain};Execute the Python script.\n",
      "11. {direct_to_user};Communicate the findings to the user, highlighting the most influential economic factors in predicting food prices at an 18-month horizon.\n"
     ]
    }
   ],
   "source": [
    "### Without prompt templates\n",
    "\n",
    "system_message = f\"\"\"You are an expert data scientist responsible for creating detailed data analysis plans.\n",
    "First create a detailed plan.\n",
    "Then distill it into an actionable plan consisting of very simple steps that leverages two CHAINs:\n",
    "1. {{\"name\": \"fred_data_specialist\", \"description\": \"Identify and access economic datasets from the Federal Reserve Economic Database (FRED). Use this chain when you need to generate or edit code for accessing or downloading data from FRED.\"}}\n",
    "2. {{\"name\": \"data_scientist\", \"description\": \"Write Python code related to data analysis and visualization, especially related to time series. Use this when you want to write code that will involve data analysis, manipulation, or plotting.\"}}\n",
    "3. {{\"name\":\"code_execution_chain\", \"description\": \"Execute the script. Use this to run Python code.\"}}\n",
    "4. {{\"name\": \"direct_to_user\", \"description\": \"Use this to use the message part of your response to just send a message directly to the user.\"}}\n",
    "    \n",
    "Format your response precisely as {{name}};{{natural language message or instructions for the selected chain on a single line}}\"\"\"\n",
    "\n",
    "main_prompt = \"I want to identify which economic factors are the best predictors of food prices at an 18 month horizon. Can you help me with that?\"\n",
    "\n",
    "messages = [\n",
    "    LLMMessage.system_message(system_message),\n",
    "    LLMMessage.user_message(main_prompt),\n",
    "]\n",
    "\n",
    "response = llm.post_chat_request(messages).first_choice\n",
    "print(response)"
   ]
  },
  {
   "cell_type": "code",
   "execution_count": 18,
   "metadata": {},
   "outputs": [
    {
     "name": "stdout",
     "output_type": "stream",
     "text": [
      "Sure, I can help with that. Here's a detailed plan:\n",
      "\n",
      "1. Identify relevant economic factors: We'll start by identifying a list of potential economic factors that could influence food prices. These could include factors like GDP, inflation, unemployment rate, oil prices, and agricultural commodity prices.\n",
      "\n",
      "2. Access economic data: We'll use the FRED database to access historical data for these economic factors. We'll use the fredapi Python package to download this data.\n",
      "\n",
      "3. Access food price data: We'll also need historical data on food prices. This could be a specific food price index or a broader measure of food prices. We'll also download this data from the FRED database.\n",
      "\n",
      "4. Preprocess the data: We'll need to preprocess the data to ensure it's in a suitable format for analysis. This could involve cleaning the data, handling missing values, and aligning the data by date.\n",
      "\n",
      "5. Create lagged variables: Since we're interested in predicting food prices at an 18 month horizon, we'll need to create lagged variables for our economic factors. This will allow us to use the values of these factors from 18 months ago to predict current food prices.\n",
      "\n",
      "6. Perform exploratory data analysis: We'll perform some initial exploratory data analysis to understand the relationships between our variables. This could involve creating scatter plots, calculating correlation coefficients, and performing other statistical tests.\n",
      "\n",
      "7. Build predictive models: We'll use machine learning techniques to build predictive models. These models will use our economic factors to predict food prices. We'll likely need to try several different models and tune their parameters to find the best performing model.\n",
      "\n",
      "8. Evaluate models: We'll evaluate the performance of our models using appropriate metrics. This could include measures like mean absolute error, root mean square error, and R-squared.\n",
      "\n",
      "9. Identify best predictors: Based on our model results, we'll identify which economic factors are the best predictors of food prices.\n",
      "\n",
      "Now, let's distill this into an actionable plan:\n",
      "\n",
      "1. fred_data_specialist;Identify and download relevant economic data and food price data from the FRED database.\n",
      "2. data_scientist;Preprocess the data, create lagged variables, perform exploratory data analysis, build predictive models, evaluate these models, and identify the best predictors of food prices.\n",
      "3. code_execution_chain;Execute the Python script.\n",
      "4. direct_to_user;Communicate the results to the user, including the best predictors of food prices and the performance of the predictive models.\n"
     ]
    }
   ],
   "source": [
    "### With prompt templates\n",
    "\n",
    "system_message = f\"\"\"You are an expert data scientist responsible for creating detailed data analysis plans.\n",
    "First create a detailed plan.\n",
    "Then distill it into an actionable plan consisting of very simple steps that leverages two CHAINs:\n",
    "1. {{\"name\": \"fred_data_specialist\", \"description\": \"Identify and access economic datasets from the Federal Reserve Economic Database (FRED). Use this chain when you need to generate or edit code for accessing or downloading data from FRED.\", \"prompt_template\": {fred_system_message + fred_prompt_template}}}\n",
    "2. {{\"name\": \"data_scientist\", \"description\": \"Write Python code related to data analysis and visualization, especially related to time series. Use this when you want to write code that will involve data analysis, manipulation, or plotting.\", \"prompt_template\": {data_scientist_system_message + data_scientist_prompt_template}}}\n",
    "3. {{\"name\":\"code_execution_chain\", \"description\": \"Execute the script. Use this to run Python code.\"}}\n",
    "4. {{\"name\": \"direct_to_user\", \"description\": \"Use this to use the message part of your response to just send a message directly to the user.\"}}\n",
    "    \n",
    "Format your response precisely as {{name}};{{natural language message or instructions for the selected chain on a single line}}\"\"\"\n",
    "\n",
    "main_prompt = \"I want to identify which economic factors are the best predictors of food prices at an 18 month horizon. Can you help me with that?\"\n",
    "\n",
    "messages = [\n",
    "    LLMMessage.system_message(system_message),\n",
    "    LLMMessage.user_message(main_prompt),\n",
    "]\n",
    "\n",
    "response = llm.post_chat_request(messages).first_choice\n",
    "print(response)"
   ]
  },
  {
   "cell_type": "code",
   "execution_count": null,
   "metadata": {},
   "outputs": [],
   "source": []
  }
 ],
 "metadata": {
  "kernelspec": {
   "display_name": "Python 3",
   "language": "python",
   "name": "python3"
  },
  "language_info": {
   "codemirror_mode": {
    "name": "ipython",
    "version": 3
   },
   "file_extension": ".py",
   "mimetype": "text/x-python",
   "name": "python",
   "nbconvert_exporter": "python",
   "pygments_lexer": "ipython3",
   "version": "3.11.4"
  },
  "orig_nbformat": 4
 },
 "nbformat": 4,
 "nbformat_minor": 2
}
